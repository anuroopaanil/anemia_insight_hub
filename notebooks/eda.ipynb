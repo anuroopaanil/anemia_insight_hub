{
 "cells": [
  {
   "cell_type": "code",
   "execution_count": null,
   "metadata": {
    "vscode": {
     "languageId": "plaintext"
    }
   },
   "outputs": [],
   "source": [
    "import pandas as pd\n",
    "import matplotlib.pyplot as plt\n",
    "import seaborn as sns\n",
    "\n",
    "# Load dataset\n",
    "df = pd.read_csv('data/hemoglobin_data.csv')\n",
    "\n",
    "# Hemoglobin distribution\n",
    "plt.figure(figsize=(10, 5))\n",
    "sns.histplot(df['hemoglobin_level'], kde=True)\n",
    "plt.title(\"Hemoglobin Level Distribution\")\n",
    "plt.show()\n"
   ]
  }
 ],
 "metadata": {
  "language_info": {
   "name": "python"
  }
 },
 "nbformat": 4,
 "nbformat_minor": 2
}
